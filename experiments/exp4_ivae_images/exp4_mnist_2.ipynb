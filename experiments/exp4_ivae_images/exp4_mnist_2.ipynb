{
 "cells": [
  {
   "cell_type": "code",
   "execution_count": 1,
   "metadata": {},
   "outputs": [],
   "source": [
    "import flax.linen as nn"
   ]
  },
  {
   "cell_type": "code",
   "execution_count": 2,
   "metadata": {},
   "outputs": [
    {
     "name": "stderr",
     "output_type": "stream",
     "text": [
      "c:\\Users\\TRETEC\\Documents\\MVA\\S1\\[IPGM] Introduction to probabilistic graphical models\\Projet\\independent_component_analysis\\.venv\\lib\\site-packages\\IPython\\core\\magics\\osm.py:417: UserWarning: using dhist requires you to install the `pickleshare` library.\n",
      "  self.shell.db['dhist'] = compress_dhist(dhist)[-100:]\n"
     ]
    },
    {
     "name": "stdout",
     "output_type": "stream",
     "text": [
      "C:\\Users\\TRETEC\\Documents\\MVA\\S1\\[IPGM] Introduction to probabilistic graphical models\\Projet\\independent_component_analysis\n",
      "C:\\Users\\TRETEC\\Documents\\MVA\\S1\\[IPGM] Introduction to probabilistic graphical models\\Projet\\independent_component_analysis\\experiments\\exp4_ivae_images\n"
     ]
    },
    {
     "name": "stderr",
     "output_type": "stream",
     "text": [
      "c:\\Users\\TRETEC\\Documents\\MVA\\S1\\[IPGM] Introduction to probabilistic graphical models\\Projet\\independent_component_analysis\\.venv\\lib\\site-packages\\IPython\\core\\magics\\osm.py:417: UserWarning: using dhist requires you to install the `pickleshare` library.\n",
      "  self.shell.db['dhist'] = compress_dhist(dhist)[-100:]\n"
     ]
    }
   ],
   "source": [
    "%cd \"C://Users//TRETEC//Documents//MVA//S1//[IPGM] Introduction to probabilistic graphical models//Projet//independent_component_analysis\"\n",
    "import optax\n",
    "from mva_independent_component_analysis.utils.math import logaddexp\n",
    "from mva_independent_component_analysis.utils.metrics import mean_corr_coef\n",
    "from mva_independent_component_analysis.vae_and_non_linear_ica_unifying_framework.ivae.nets import IVAE\n",
    "from optax import adam\n",
    "from optax import piecewise_constant_schedule, exponential_decay\n",
    "import jax.numpy as jnp\n",
    "import jax\n",
    "from mva_independent_component_analysis.vae_and_non_linear_ica_unifying_framework.ivae.exponential_family import logdensity_normal\n",
    "import flax\n",
    "%cd experiments/exp4_ivae_images"
   ]
  },
  {
   "cell_type": "code",
   "execution_count": 3,
   "metadata": {},
   "outputs": [
    {
     "name": "stdout",
     "output_type": "stream",
     "text": [
      "result_path:  ./results\n"
     ]
    }
   ],
   "source": [
    "import os, torchvision\n",
    "import matplotlib.pyplot as plt\n",
    "import numpy as np\n",
    "import pandas as pd\n",
    "import seaborn as sns\n",
    "from sklearn.feature_selection import RFE\n",
    "from sklearn.linear_model import LogisticRegression\n",
    "from sklearn.manifold import TSNE\n",
    "from sklearn.model_selection import train_test_split\n",
    "from sklearn.preprocessing import OneHotEncoder\n",
    "from torch.utils.data import TensorDataset, DataLoader\n",
    "from torchvision.transforms import Compose, ToTensor, Lambda\n",
    "import tqdm\n",
    "\n",
    "# seed number for reproducibility\n",
    "seed = 0\n",
    "\n",
    "# make result folder\n",
    "result_path = './results' \n",
    "os.makedirs(result_path, exist_ok=True)\n",
    "print('result_path: ', result_path)\n",
    "\n",
    "# load and pre-process the MNIST dataset\n",
    "onehot_enc = OneHotEncoder(handle_unknown='ignore')\n",
    "transform = Compose([ToTensor(),\n",
    "                     Lambda(lambda x: x.view(1, 28, 28)),\n",
    "                     Lambda(lambda x: x.transpose(1, 2))])\n",
    "\n",
    "mnist_train = torchvision.datasets.MNIST(root='./MNIST',\n",
    "                                         train=True,\n",
    "                                         download=True,\n",
    "                                         transform=transform)\n",
    "mnist_test = torchvision.datasets.MNIST(root='./MNIST',\n",
    "                                        train=False,\n",
    "                                        download=True,\n",
    "                                        transform=transform)\n",
    "\n",
    "x_train, u_train = mnist_train.data, mnist_train.targets\n",
    "x_test, u_test = mnist_test.data, mnist_test.targets\n",
    "\n",
    "x_train = np.reshape(x_train, (-1, 28*28))/255.0\n",
    "x_test = np.reshape(x_test, (-1, 28*28))/255.0\n",
    "u_train = onehot_enc.fit_transform(u_train.reshape(-1, 1)).toarray()\n",
    "u_test = onehot_enc.fit_transform(u_test.reshape(-1, 1)).toarray()\n"
   ]
  },
  {
   "cell_type": "code",
   "execution_count": 4,
   "metadata": {},
   "outputs": [],
   "source": [
    "x_train_numpy=x_train.numpy()\n",
    "x_test_numpy=x_test.numpy()\n"
   ]
  },
  {
   "cell_type": "code",
   "execution_count": 5,
   "metadata": {},
   "outputs": [],
   "source": [
    "model_cfg = {\n",
    "        'n_layers': 3,\n",
    "        'activation': lambda x: nn.tanh(x) + 0.1 * x,\n",
    "        'hidden_dim': 100}\n",
    "learning_cfg = {\n",
    "        'a': 100,\n",
    "        'b': 1,\n",
    "        'c': 0,\n",
    "        'd': 10,\n",
    "        'lr': 1e-2,\n",
    "        'batch_size': 60,\n",
    "        'epochs': 200,\n",
    "    }"
   ]
  },
  {
   "cell_type": "code",
   "execution_count": 6,
   "metadata": {},
   "outputs": [],
   "source": [
    "def create_batch(OP_key, X, U, batch_size):\n",
    "    n = X.shape[0] // batch_size\n",
    "\n",
    "    def split_and_shuffle(key, x):\n",
    "        x = jnp.asarray(jnp.split(x, n))\n",
    "        x = jax.random.permutation(key, x)\n",
    "        return x\n",
    "\n",
    "    return split_and_shuffle(OP_key, X), split_and_shuffle(OP_key, U)"
   ]
  },
  {
   "cell_type": "code",
   "execution_count": 7,
   "metadata": {},
   "outputs": [],
   "source": [
    "def train_and_evaluate(OP_key, X, U, latent_dim, model_cfg, learning_cfg):\n",
    "\n",
    "    data_dim, aux_dim = X.shape[1], U.shape[1]\n",
    "    model_cfg.update({'data_dim': data_dim, 'latent_dim' : latent_dim, 'aux_dim': aux_dim})\n",
    "\n",
    "    # learning parameters\n",
    "    lr = learning_cfg.pop('lr', 1e-2)\n",
    "    batch_size = learning_cfg.pop('batch_size', 60)\n",
    "    epochs = learning_cfg.pop('epochs', 200)\n",
    "    # fixed Gaussian noise: \\varepsilon ~ N(0, sigma^2Id)\n",
    "    var_decoder = 0.1\n",
    "\n",
    "    N = X.shape[0]\n",
    "    assert N % batch_size == 0\n",
    "    n = N // batch_size\n",
    "    key1, key = jax.random.split(OP_key, 2)\n",
    "    batches = create_batch(key1, X, U, batch_size)\n",
    "\n",
    "    # order: x, s, u\n",
    "    x_shape, u_shape = batches[0][0].shape, batches[1][0].shape\n",
    "\n",
    "    model = IVAE(**model_cfg)\n",
    "    variables = model.init(key, key=key1, x=jnp.empty(x_shape), u=jnp.empty(u_shape))\n",
    "    state, params = flax.core.pop(variables, 'params')\n",
    "    del variables\n",
    "    # scheduler = piecewise_constant_schedule(lr, {int(0.8 * epochs): 0.8})\n",
    "    scheduler = exponential_decay(lr, 1000, 0.8)\n",
    "    optimizer = adam(scheduler)\n",
    "    opt_state = optimizer.init(params)\n",
    "    batch_keys = jax.random.split(key, n)\n",
    "\n",
    "    def train_step(state, opt_state, params, z_rng_batch, x_batch, u_batch, a, b, c, d):\n",
    "        \"\"\"\n",
    "        See: https://flax.readthedocs.io/en/latest/guides/flax_fundamentals/state_params.html\n",
    "             https://github.com/ilkhem/iVAE\n",
    "             Assuming z \\mid u Gaussian-prior.\n",
    "        \"\"\"\n",
    "\n",
    "        def batch_loss(params):\n",
    "            def loss_fn(z_rng, x, u):\n",
    "                f, g, v, z, l = model.apply(\n",
    "                    {'params': params}, z_rng, x, u  # **state\n",
    "                )\n",
    "                M, d_latent = z.shape\n",
    "                logpx = jnp.sum(logdensity_normal(x, f, var_decoder), axis=-1)\n",
    "                logqs_cux = jnp.sum(logdensity_normal(z, g, v), axis=-1)\n",
    "                logps_cu = jnp.sum(logdensity_normal(z, 0., l), axis=-1)\n",
    "\n",
    "                logqs_tmp = logdensity_normal(z.reshape(M, 1, d_latent), g.reshape(1, M, d_latent),\n",
    "                                              v.reshape(1, M, d_latent))\n",
    "                logqs = logaddexp(jnp.sum(logqs_tmp, axis=-1), axis=1) - jnp.log(M * N)\n",
    "                logqs_i = jnp.sum(logaddexp(logqs_tmp, axis=1) - jnp.log(M * N), axis=-1)\n",
    "\n",
    "                elbo = -jnp.mean(\n",
    "                    (a * logpx - b * (logqs_cux - logqs) - c * (logqs - logqs_i) - d * (logqs_i - logps_cu)))\n",
    "                return elbo, z\n",
    "\n",
    "            loss, updated_state = jax.vmap(loss_fn, out_axes=(0, 0))(z_rng_batch, x_batch,\n",
    "                                                                     u_batch)  # out_axes = (0, None)?\n",
    "            return loss.mean(), updated_state\n",
    "\n",
    "        (loss, updated_state), grads = jax.value_and_grad(\n",
    "            batch_loss, has_aux=True,\n",
    "        )(params)\n",
    "        updates, opt_state = optimizer.update(grads, opt_state, params=params)\n",
    "        params = optax.apply_updates(params, updates)\n",
    "        return opt_state, params, updated_state, loss\n",
    "\n",
    "    for epoch in range(epochs):\n",
    "        opt_state, params, state, loss = train_step(state, opt_state, params, batch_keys, batches[0], batches[1],\n",
    "                                                    **learning_cfg)\n",
    "        print(f\"Epoch: {epoch}; Loss: {loss}\")\n",
    "    return model,params,state\n"
   ]
  },
  {
   "cell_type": "code",
   "execution_count": 8,
   "metadata": {},
   "outputs": [
    {
     "name": "stdout",
     "output_type": "stream",
     "text": [
      "Epoch: 0; Loss: 169613.15625\n",
      "Epoch: 1; Loss: 108431.046875\n",
      "Epoch: 2; Loss: 71384.65625\n",
      "Epoch: 3; Loss: 42420.88671875\n",
      "Epoch: 4; Loss: 57921.10546875\n",
      "Epoch: 5; Loss: 44407.375\n",
      "Epoch: 6; Loss: 43234.40234375\n",
      "Epoch: 7; Loss: 89487.0234375\n",
      "Epoch: 8; Loss: 34959.35546875\n",
      "Epoch: 9; Loss: 29242.609375\n",
      "Epoch: 10; Loss: 23230.185546875\n",
      "Epoch: 11; Loss: 18902.8359375\n",
      "Epoch: 12; Loss: 18962.77734375\n",
      "Epoch: 13; Loss: 15339.6865234375\n",
      "Epoch: 14; Loss: 11457.2109375\n",
      "Epoch: 15; Loss: 11504.0986328125\n",
      "Epoch: 16; Loss: 18028.9921875\n",
      "Epoch: 17; Loss: 23722.572265625\n",
      "Epoch: 18; Loss: 19520.068359375\n",
      "Epoch: 19; Loss: 12135.2275390625\n",
      "Epoch: 20; Loss: 13175.185546875\n",
      "Epoch: 21; Loss: 12309.716796875\n",
      "Epoch: 22; Loss: 10191.2802734375\n",
      "Epoch: 23; Loss: 10795.240234375\n",
      "Epoch: 24; Loss: 8871.2509765625\n",
      "Epoch: 25; Loss: 7766.12451171875\n",
      "Epoch: 26; Loss: 7596.748046875\n",
      "Epoch: 27; Loss: 8248.4990234375\n",
      "Epoch: 28; Loss: 7424.12646484375\n",
      "Epoch: 29; Loss: 6617.3564453125\n",
      "Epoch: 30; Loss: 5798.3837890625\n",
      "Epoch: 31; Loss: 5922.666015625\n",
      "Epoch: 32; Loss: 6010.1904296875\n",
      "Epoch: 33; Loss: 6427.3994140625\n",
      "Epoch: 34; Loss: 6039.5283203125\n",
      "Epoch: 35; Loss: 4994.00830078125\n",
      "Epoch: 36; Loss: 4642.640625\n",
      "Epoch: 37; Loss: 4438.35302734375\n",
      "Epoch: 38; Loss: 4495.61572265625\n",
      "Epoch: 39; Loss: 4410.77392578125\n",
      "Epoch: 40; Loss: 3754.162109375\n",
      "Epoch: 41; Loss: 3452.064697265625\n",
      "Epoch: 42; Loss: 3461.2958984375\n",
      "Epoch: 43; Loss: 3377.271484375\n",
      "Epoch: 44; Loss: 3176.03759765625\n",
      "Epoch: 45; Loss: 2756.32373046875\n",
      "Epoch: 46; Loss: 2461.694580078125\n",
      "Epoch: 47; Loss: 2436.407958984375\n",
      "Epoch: 48; Loss: 2296.461181640625\n",
      "Epoch: 49; Loss: 2107.066650390625\n",
      "Epoch: 50; Loss: 1898.6953125\n",
      "Epoch: 51; Loss: 1626.2554931640625\n",
      "Epoch: 52; Loss: 1414.9661865234375\n",
      "Epoch: 53; Loss: 1273.5380859375\n",
      "Epoch: 54; Loss: 1091.978759765625\n",
      "Epoch: 55; Loss: 979.0365600585938\n",
      "Epoch: 56; Loss: 908.9237670898438\n",
      "Epoch: 57; Loss: 1135.625244140625\n",
      "Epoch: 58; Loss: 2429.5634765625\n",
      "Epoch: 59; Loss: 8049.4443359375\n",
      "Epoch: 60; Loss: 7723.6943359375\n",
      "Epoch: 61; Loss: 991.2054443359375\n",
      "Epoch: 62; Loss: 2859.01708984375\n",
      "Epoch: 63; Loss: 1246.2520751953125\n",
      "Epoch: 64; Loss: 1516.4163818359375\n",
      "Epoch: 65; Loss: 1897.0640869140625\n",
      "Epoch: 66; Loss: 1669.755615234375\n",
      "Epoch: 67; Loss: 1490.0615234375\n",
      "Epoch: 68; Loss: 1366.034912109375\n",
      "Epoch: 69; Loss: 1302.3118896484375\n",
      "Epoch: 70; Loss: 1193.71728515625\n",
      "Epoch: 71; Loss: 1397.2845458984375\n",
      "Epoch: 72; Loss: 2094.724365234375\n",
      "Epoch: 73; Loss: 2236.170166015625\n",
      "Epoch: 74; Loss: 1387.582275390625\n",
      "Epoch: 75; Loss: 542.1954956054688\n",
      "Epoch: 76; Loss: 719.8599243164062\n",
      "Epoch: 77; Loss: -115.50822448730469\n",
      "Epoch: 78; Loss: 207.44461059570312\n",
      "Epoch: 79; Loss: -85.93028259277344\n",
      "Epoch: 80; Loss: -165.2179718017578\n",
      "Epoch: 81; Loss: -715.2735595703125\n",
      "Epoch: 82; Loss: -485.4251403808594\n",
      "Epoch: 83; Loss: -791.3023071289062\n",
      "Epoch: 84; Loss: -875.1902465820312\n",
      "Epoch: 85; Loss: -1140.112060546875\n",
      "Epoch: 86; Loss: -1121.7109375\n",
      "Epoch: 87; Loss: -1377.4505615234375\n",
      "Epoch: 88; Loss: -1464.998046875\n",
      "Epoch: 89; Loss: -1601.1033935546875\n",
      "Epoch: 90; Loss: -1698.1783447265625\n",
      "Epoch: 91; Loss: -1885.513427734375\n",
      "Epoch: 92; Loss: -1935.8394775390625\n",
      "Epoch: 93; Loss: -2091.1396484375\n",
      "Epoch: 94; Loss: -2258.808349609375\n",
      "Epoch: 95; Loss: -2266.606201171875\n",
      "Epoch: 96; Loss: -2439.48583984375\n",
      "Epoch: 97; Loss: -2541.63671875\n",
      "Epoch: 98; Loss: -2637.8876953125\n",
      "Epoch: 99; Loss: -2755.9560546875\n",
      "Epoch: 100; Loss: -2879.9716796875\n",
      "Epoch: 101; Loss: -2947.0458984375\n",
      "Epoch: 102; Loss: -3067.37060546875\n",
      "Epoch: 103; Loss: -3119.916259765625\n",
      "Epoch: 104; Loss: -2848.774658203125\n",
      "Epoch: 105; Loss: 473.1622619628906\n",
      "Epoch: 106; Loss: 19031.111328125\n",
      "Epoch: 107; Loss: 2418.003173828125\n",
      "Epoch: 108; Loss: 3893.0146484375\n",
      "Epoch: 109; Loss: 686.2255249023438\n",
      "Epoch: 110; Loss: -357.4987487792969\n",
      "Epoch: 111; Loss: -118.90859985351562\n",
      "Epoch: 112; Loss: -1021.1085815429688\n",
      "Epoch: 113; Loss: -313.39227294921875\n",
      "Epoch: 114; Loss: 2567.37255859375\n",
      "Epoch: 115; Loss: 26298.986328125\n",
      "Epoch: 116; Loss: 55654.984375\n",
      "Epoch: 117; Loss: 3538.543701171875\n",
      "Epoch: 118; Loss: 6300.14892578125\n",
      "Epoch: 119; Loss: 5420.05126953125\n",
      "Epoch: 120; Loss: 5350.6328125\n",
      "Epoch: 121; Loss: 4922.56396484375\n",
      "Epoch: 122; Loss: 5612.56494140625\n",
      "Epoch: 123; Loss: 3923.34228515625\n",
      "Epoch: 124; Loss: 2824.205810546875\n",
      "Epoch: 125; Loss: 1588.6580810546875\n",
      "Epoch: 126; Loss: 1260.8668212890625\n",
      "Epoch: 127; Loss: 663.3689575195312\n",
      "Epoch: 128; Loss: 243.8883514404297\n",
      "Epoch: 129; Loss: -42.10138702392578\n",
      "Epoch: 130; Loss: -291.8094482421875\n",
      "Epoch: 131; Loss: -701.6739501953125\n",
      "Epoch: 132; Loss: -1222.45166015625\n",
      "Epoch: 133; Loss: -1577.0474853515625\n",
      "Epoch: 134; Loss: -1895.68505859375\n",
      "Epoch: 135; Loss: -2169.995849609375\n",
      "Epoch: 136; Loss: -2369.091064453125\n",
      "Epoch: 137; Loss: -2636.553466796875\n",
      "Epoch: 138; Loss: -2777.614501953125\n",
      "Epoch: 139; Loss: -3001.0546875\n",
      "Epoch: 140; Loss: -3231.019775390625\n",
      "Epoch: 141; Loss: -3299.816162109375\n",
      "Epoch: 142; Loss: -3444.275146484375\n",
      "Epoch: 143; Loss: -3617.955322265625\n",
      "Epoch: 144; Loss: -3735.214599609375\n",
      "Epoch: 145; Loss: -3889.522705078125\n",
      "Epoch: 146; Loss: -4007.416748046875\n",
      "Epoch: 147; Loss: -4134.6513671875\n",
      "Epoch: 148; Loss: -4245.87548828125\n",
      "Epoch: 149; Loss: -4304.548828125\n",
      "Epoch: 150; Loss: -4400.35205078125\n",
      "Epoch: 151; Loss: -4429.84423828125\n",
      "Epoch: 152; Loss: -4168.13134765625\n",
      "Epoch: 153; Loss: -2312.147216796875\n",
      "Epoch: 154; Loss: 7561.703125\n",
      "Epoch: 155; Loss: 9902.0546875\n",
      "Epoch: 156; Loss: -2886.75634765625\n",
      "Epoch: 157; Loss: -2104.66015625\n",
      "Epoch: 158; Loss: 360.1343078613281\n",
      "Epoch: 159; Loss: -1720.2332763671875\n",
      "Epoch: 160; Loss: -328.256591796875\n",
      "Epoch: 161; Loss: -1620.3265380859375\n",
      "Epoch: 162; Loss: -2606.945556640625\n",
      "Epoch: 163; Loss: -2472.33642578125\n",
      "Epoch: 164; Loss: -1506.177734375\n",
      "Epoch: 165; Loss: -2444.26123046875\n",
      "Epoch: 166; Loss: -2869.584228515625\n",
      "Epoch: 167; Loss: -2700.94873046875\n",
      "Epoch: 168; Loss: -3278.521240234375\n",
      "Epoch: 169; Loss: -3465.756591796875\n",
      "Epoch: 170; Loss: -3355.082763671875\n",
      "Epoch: 171; Loss: -3970.581787109375\n",
      "Epoch: 172; Loss: -3928.715576171875\n",
      "Epoch: 173; Loss: -4147.5302734375\n",
      "Epoch: 174; Loss: -4195.96337890625\n",
      "Epoch: 175; Loss: -4398.5068359375\n",
      "Epoch: 176; Loss: -4336.4189453125\n",
      "Epoch: 177; Loss: -4469.30224609375\n",
      "Epoch: 178; Loss: -4588.09326171875\n",
      "Epoch: 179; Loss: -4595.76513671875\n",
      "Epoch: 180; Loss: -4697.06201171875\n",
      "Epoch: 181; Loss: -4781.58984375\n",
      "Epoch: 182; Loss: -4795.97216796875\n",
      "Epoch: 183; Loss: -4915.6669921875\n",
      "Epoch: 184; Loss: -4951.20068359375\n",
      "Epoch: 185; Loss: -5006.65625\n",
      "Epoch: 186; Loss: -5055.1416015625\n",
      "Epoch: 187; Loss: -5122.54638671875\n",
      "Epoch: 188; Loss: -5155.02978515625\n",
      "Epoch: 189; Loss: -5199.13427734375\n",
      "Epoch: 190; Loss: -5276.958984375\n",
      "Epoch: 191; Loss: -5300.50341796875\n",
      "Epoch: 192; Loss: -5347.806640625\n",
      "Epoch: 193; Loss: -5402.6650390625\n",
      "Epoch: 194; Loss: -5442.21630859375\n",
      "Epoch: 195; Loss: -5475.232421875\n",
      "Epoch: 196; Loss: -5527.42138671875\n",
      "Epoch: 197; Loss: -5567.72509765625\n",
      "Epoch: 198; Loss: -5605.54638671875\n",
      "Epoch: 199; Loss: -5649.6708984375\n"
     ]
    }
   ],
   "source": [
    "OP_key = jax.random.PRNGKey(106)\n",
    "model, params, state = train_and_evaluate(OP_key, x_train_numpy, u_train, 16, model_cfg, learning_cfg)"
   ]
  },
  {
   "cell_type": "code",
   "execution_count": 9,
   "metadata": {},
   "outputs": [
    {
     "data": {
      "text/plain": [
       "IVAE(\n",
       "    # attributes\n",
       "    data_dim = 784\n",
       "    latent_dim = 16\n",
       "    aux_dim = 10\n",
       "    n_layers = 3\n",
       "    activation = <lambda>\n",
       "    hidden_dim = 100\n",
       ")"
      ]
     },
     "execution_count": 9,
     "metadata": {},
     "output_type": "execute_result"
    }
   ],
   "source": [
    "model"
   ]
  },
  {
   "cell_type": "code",
   "execution_count": 10,
   "metadata": {},
   "outputs": [],
   "source": [
    "z=state.reshape(-1,16)"
   ]
  },
  {
   "cell_type": "code",
   "execution_count": 61,
   "metadata": {},
   "outputs": [
    {
     "data": {
      "text/plain": [
       "(10000, 16)"
      ]
     },
     "execution_count": 61,
     "metadata": {},
     "output_type": "execute_result"
    }
   ],
   "source": [
    "_,_,z,_,_ = model.apply({'params' : params}, OP_key, x_test_numpy, u_test)\n",
    "z.shape"
   ]
  },
  {
   "cell_type": "code",
   "execution_count": 62,
   "metadata": {},
   "outputs": [
    {
     "data": {
      "text/plain": [
       "<Axes: >"
      ]
     },
     "execution_count": 62,
     "metadata": {},
     "output_type": "execute_result"
    },
    {
     "data": {
      "image/png": "[encoded data removed]",
      "text/plain": [
       "<Figure size 640x480 with 2 Axes>"
      ]
     },
     "metadata": {},
     "output_type": "display_data"
    }
   ],
   "source": [
    "sns.heatmap(z[:10])"
   ]
  },
  {
   "cell_type": "code",
   "execution_count": 63,
   "metadata": {},
   "outputs": [],
   "source": [
    "reconstructed = model.apply({'params' : params}, OP_key, None, None, z, decoder = True)"
   ]
  },
  {
   "cell_type": "code",
   "execution_count": 64,
   "metadata": {},
   "outputs": [
    {
     "data": {
      "text/plain": [
       "<matplotlib.image.AxesImage at 0x1d9a2fbd460>"
      ]
     },
     "execution_count": 64,
     "metadata": {},
     "output_type": "execute_result"
    },
    {
     "data": {
      "image/png": "[encoded data removed]",
      "text/plain": [
       "<Figure size 640x480 with 1 Axes>"
      ]
     },
     "metadata": {},
     "output_type": "display_data"
    }
   ],
   "source": [
    "plt.imshow(reconstructed[8].reshape(28,28))"
   ]
  },
  {
   "cell_type": "code",
   "execution_count": 66,
   "metadata": {},
   "outputs": [
    {
     "data": {
      "text/plain": [
       "5"
      ]
     },
     "execution_count": 66,
     "metadata": {},
     "output_type": "execute_result"
    }
   ],
   "source": [
    "np.argmax(u_test[8])"
   ]
  },
  {
   "cell_type": "code",
   "execution_count": 65,
   "metadata": {},
   "outputs": [
    {
     "data": {
      "text/plain": [
       "<matplotlib.image.AxesImage at 0x1d9a415b0d0>"
      ]
     },
     "execution_count": 65,
     "metadata": {},
     "output_type": "execute_result"
    },
    {
     "data": {
      "image/png": "[encoded data removed]",
      "text/plain": [
       "<Figure size 640x480 with 1 Axes>"
      ]
     },
     "metadata": {},
     "output_type": "display_data"
    }
   ],
   "source": [
    "plt.imshow(x_test_numpy[8].reshape(28,28))"
   ]
  }
 ],
 "metadata": {
  "kernelspec": {
   "display_name": ".venv",
   "language": "python",
   "name": "python3"
  },
  "language_info": {
   "codemirror_mode": {
    "name": "ipython",
    "version": 3
   },
   "file_extension": ".py",
   "mimetype": "text/x-python",
   "name": "python",
   "nbconvert_exporter": "python",
   "pygments_lexer": "ipython3",
   "version": "3.9.11"
  }
 },
 "nbformat": 4,
 "nbformat_minor": 2
}
