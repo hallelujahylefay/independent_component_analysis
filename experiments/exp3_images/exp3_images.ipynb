{
 "cells": [
  {
   "cell_type": "code",
   "execution_count": 2,
   "metadata": {},
   "outputs": [],
   "source": [
    "import cv2\n",
    "import numpy as np"
   ]
  },
  {
   "cell_type": "code",
   "execution_count": null,
   "metadata": {},
   "outputs": [],
   "source": [
    "\n",
    " \n",
    " \n",
    "def add_salt_and_pepper_noise(image, noise_ratio=0.02):\n",
    "    noisy_image = image.copy()\n",
    "    h, w, c = noisy_image.shape\n",
    "    noisy_pixels = int(h * w * noise_ratio)\n",
    " \n",
    "    for _ in range(noisy_pixels):\n",
    "        row, col = np.random.randint(0, h), np.random.randint(0, w)\n",
    "        if np.random.rand() < 0.5:\n",
    "            noisy_image[row, col] = [0, 0, 0] \n",
    "        else:\n",
    "            noisy_image[row, col] = [255, 255, 255]\n",
    " \n",
    "    return noisy_image\n",
    " \n",
    "original_image = cv2.imread('testimg.jpeg')\n",
    " \n",
    "if original_image is None:\n",
    "    raise Exception(\"Image not loaded properly. Check the file path.\")\n",
    " \n",
    "noisy_image = add_salt_and_pepper_noise(original_image, noise_ratio=0.02)\n",
    " \n",
    "cv2.imshow(\"Original Image\", original_image)\n",
    "cv2.imshow(\"Noisy Image (Salt and Pepper)\", noisy_image)\n",
    "cv2.waitKey(0)\n",
    "cv2.destroyAllWindows()"
   ]
  }
 ],
 "metadata": {
  "kernelspec": {
   "display_name": ".venv",
   "language": "python",
   "name": "python3"
  },
  "language_info": {
   "codemirror_mode": {
    "name": "ipython",
    "version": 3
   },
   "file_extension": ".py",
   "mimetype": "text/x-python",
   "name": "python",
   "nbconvert_exporter": "python",
   "pygments_lexer": "ipython3",
   "version": "3.9.11"
  }
 },
 "nbformat": 4,
 "nbformat_minor": 2
}
